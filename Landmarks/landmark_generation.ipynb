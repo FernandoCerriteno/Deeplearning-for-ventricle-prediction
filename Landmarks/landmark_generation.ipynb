{
 "cells": [
  {
   "cell_type": "code",
   "execution_count": 1,
   "id": "e6adab3a",
   "metadata": {},
   "outputs": [],
   "source": [
    "import numpy as np\n",
    "import matplotlib.pyplot as plt\n",
    "from skimage.morphology import binary_dilation, binary_erosion, disk\n",
    "from skimage.filters import gaussian\n",
    "import cv2"
   ]
  },
  {
   "cell_type": "code",
   "execution_count": 2,
   "metadata": {},
   "outputs": [],
   "source": [
    "import os\n",
    "\n",
    "def process_images_in_folder(folder_path, output_folder):\n",
    "    # Verificar si la ruta de salida existe, si no, crearla\n",
    "    if not os.path.exists(output_folder):\n",
    "        os.makedirs(output_folder)\n",
    "\n",
    "    # Obtener la lista de archivos en el directorio\n",
    "    files = os.listdir(folder_path)\n",
    "    \n",
    "    for file in files:\n",
    "        if file.endswith('.jpg') or file.endswith('.png') or file.endswith('.jpeg'):\n",
    "            # Cargar la imagen\n",
    "            image_path = os.path.join(folder_path, file)\n",
    "            mask = cv2.imread(image_path, 0)\n",
    "\n",
    "            if mask is not None:\n",
    "                # Aplicar el algoritmo Canny para detección de bordes\n",
    "                edges = cv2.Canny(mask, 10, 100)  # Los valores 30 y 150 son umbrales para el algoritmo Canny\n",
    "\n",
    "                # Now, create a set of heatmaps that contains only a 1 at the coordinate\n",
    "                img_h, img_w = edges.shape\n",
    "                coords = [(111,111), (111,0), (0,55), (0,0), (0,111), (55,0), (55,111)]\n",
    "                num_coords = len(coords)\n",
    "                heatmaps = np.zeros((num_coords, img_h, img_w))\n",
    "\n",
    "                for i in range(num_coords):\n",
    "                    current_coord = coords[i]\n",
    "                    heatmaps[i, int(current_coord[0]), int(current_coord[1])] = 1\n",
    "\n",
    "                # Now, apply a gaussian filter to each heatmap\n",
    "                var = 20\n",
    "                gaussian_heatmaps = gaussian(heatmaps, [0, var, var])\n",
    "\n",
    "                # Now, use the contour as a mask of the heatmaps\n",
    "                masked_heatmaps = np.zeros_like(gaussian_heatmaps)\n",
    "                for i in range(num_coords):\n",
    "                    masked_heatmaps[i] = edges * gaussian_heatmaps[i]\n",
    "                    \n",
    "                    # Renormalize so the values are between 0 and 1\n",
    "                    max_val = np.max(masked_heatmaps[i])\n",
    "                    masked_heatmaps[i] = masked_heatmaps[i] / max_val\n",
    "\n",
    "                # Generate a folder with the name of the image that will contain the landmarks\n",
    "                new_folder = os.path.join(output_folder, (file.replace('mask', 'landmark')).replace('.jpg', ''))\n",
    "                if not os.path.exists(new_folder):\n",
    "                    os.makedirs(new_folder)\n",
    "\n",
    "                # Generate an image with each landmark as a 1 channel image\n",
    "                for i in range(len(masked_heatmaps)):\n",
    "                    heatmap = masked_heatmaps[i]\n",
    "                    heatmap = (heatmap * 255).astype(np.uint8)\n",
    "                    heatmap = cv2.cvtColor(heatmap, cv2.COLOR_GRAY2RGB)\n",
    "                    cv2.imwrite(os.path.join(new_folder, '{}.jpg'.format(i)), heatmap)\n",
    "\n",
    "        else:\n",
    "            print(f\"No se pudo cargar la imagen {file} en la ruta especificada.\")\n",
    "\n",
    "# Llama a la función para procesar las imágenes en el directorio de entrada\n",
    "for i in ['TRAIN', 'TEST', 'VAL']:\n",
    "    input_folder_path = \"../Mascaras/Mask/{}\".format(i)\n",
    "    output_folder_path = \"./Landmarks/{}\".format(i)\n",
    "    process_images_in_folder(input_folder_path, output_folder_path)"
   ]
  },
  {
   "cell_type": "code",
   "execution_count": 2,
   "metadata": {},
   "outputs": [
    {
     "name": "stdout",
     "output_type": "stream",
     "text": [
      "Cantidad de imágenes en la carpeta Frames:\n",
      "Train:  14920\n",
      "Test:  2552\n",
      "Val:  2574\n",
      "\n",
      "Cantidad de imágenes en la carpeta Landmarks:\n",
      "Train:  14920\n",
      "Test:  2552\n",
      "Val:  2574\n"
     ]
    }
   ],
   "source": [
    "import os\n",
    "\n",
    "# Contamos la cantidad de imágenes en la carpeta Frames y en la carpeta Landmarks\n",
    "print(\"Cantidad de imágenes en la carpeta Frames:\")\n",
    "print('Train: ', len(os.listdir('../Frames/TRAIN')))\n",
    "print('Test: ', len(os.listdir('../Frames/TEST')))\n",
    "print('Val: ', len(os.listdir('../Frames/VAL')))\n",
    "print()\n",
    "print(\"Cantidad de imágenes en la carpeta Landmarks:\")\n",
    "print('Train: ', len(os.listdir('./Landmarks/TRAIN')))\n",
    "print('Test: ', len(os.listdir('./Landmarks/TEST')))\n",
    "print('Val: ', len(os.listdir('./Landmarks/VAL')))"
   ]
  },
  {
   "cell_type": "code",
   "execution_count": null,
   "metadata": {},
   "outputs": [],
   "source": []
  }
 ],
 "metadata": {
  "kernelspec": {
   "display_name": "tf",
   "language": "python",
   "name": "python3"
  },
  "language_info": {
   "codemirror_mode": {
    "name": "ipython",
    "version": 3
   },
   "file_extension": ".py",
   "mimetype": "text/x-python",
   "name": "python",
   "nbconvert_exporter": "python",
   "pygments_lexer": "ipython3",
   "version": "3.9.18"
  }
 },
 "nbformat": 4,
 "nbformat_minor": 5
}
